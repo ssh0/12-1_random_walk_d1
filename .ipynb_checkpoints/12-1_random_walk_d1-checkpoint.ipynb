{
 "metadata": {
  "kernelspec": {
   "codemirror_mode": {
    "name": "ipython",
    "version": 2
   },
   "display_name": "IPython (Python 2)",
   "language": "python",
   "name": "python2"
  },
  "name": "",
  "signature": "sha256:1dea0ad89a9ad5d4c9a0d42b4ef48699078bcdc75b9b4690ac27441d1b298171"
 },
 "nbformat": 3,
 "nbformat_minor": 0,
 "worksheets": [
  {
   "cells": [
    {
     "cell_type": "heading",
     "level": 1,
     "metadata": {
      "internals": {
       "slide_helper": "subslide_end",
       "slide_type": "subslide"
      },
      "slide_helper": "slide_end",
      "slideshow": {
       "slide_type": "slide"
      }
     },
     "source": [
      "\u8a08\u7b97\u6a5f\u5b9f\u7fd2 \u554f\u984c12.1 \u96e2\u6563\u7684\u306a\u6642\u9593\u306e1\u6b21\u5143\u30e9\u30f3\u30c0\u30e0\u30a6\u30a9\u30fc\u30af"
     ]
    },
    {
     "cell_type": "heading",
     "level": 2,
     "metadata": {
      "internals": {
       "slide_helper": "subslide_end",
       "slide_type": "subslide"
      },
      "slide_helper": "subslide_end",
      "slideshow": {
       "slide_type": "slide"
      }
     },
     "source": [
      "\u30b7\u30df\u30e5\u30ec\u30fc\u30b7\u30e7\u30f3\u306e\u76ee\u7684"
     ]
    },
    {
     "cell_type": "markdown",
     "metadata": {
      "internals": {
       "slide_helper": "subslide_end",
       "slide_type": "subslide"
      },
      "slide_helper": "slide_end",
      "slideshow": {
       "slide_type": "subslide"
      }
     },
     "source": [
      "\u672c\u30b7\u30df\u30e5\u30ec\u30fc\u30b7\u30e7\u30f3\u3067\u306f\u3001\u30e9\u30f3\u30c0\u30e0\u30a6\u30a9\u30fc\u30af\u306e\u6700\u3082\u7c21\u5358\u306a\u5834\u5408\u3068\u3057\u3066\u3001\u4e26\u9032\u5bfe\u79f0\u306a1\u6b21\u5143\u306e\u683c\u5b50\u4e0a\u3092\u4e00\u5b9a\u306e\u6642\u9593\u9593\u9694\u3067\u9077\u79fb\u3059\u308b\u30e2\u30c7\u30eb\u3092\u8003\u3048\u308b\u3002\u30e9\u30f3\u30c0\u30e0\u30a6\u30a9\u30fc\u30af\u306e\u5206\u6563\u306b\u3064\u3044\u3066\u77e5\u3089\u308c\u3066\u3044\u308b\u3053\u3068\u3068\u3057\u3066\u3001\u5341\u5206\u5927\u304d\u306a$N$\u306b\u5bfe\u3057\u3066$< \\Delta x^{2}(N)> $\u306f\u3079\u304d\u4e57\u5247\n",
      "\n",
      "\n",
      "\\begin{equation}\n",
      "    <\\Delta x^{2}(N)> \\sim N^{2\\nu}\n",
      "\\end{equation}\n",
      "\n",
      "\u3092\u6e80\u305f\u3059\u3002\u3053\u3053\u3067\u8a18\u53f7$\\sim$\u306f\"\u6f38\u8fd1\u7684\u306b\u7b49\u3057\u3044\"\u3053\u3068\u3092\u610f\u5473\u3057\u3001\u5f0f(1)\u306f\u6f38\u8fd1\u7684\u306a\u30b9\u30b1\u30fc\u30ea\u30f3\u30b0\u5247\u306e1\u4f8b\u3068\u306a\u3063\u3066\u3044\u308b\u3002\u4eca\u7c21\u5358\u306a1\u6b21\u5143\u30e9\u30f3\u30c0\u30e0\u30a6\u30a9\u30fc\u30af\u306e\u30e2\u30c7\u30eb(\u53f3\u3068\u5de6\u306b\u9032\u3080\u78ba\u7387\u304c\u7b49\u3057\u3044\u3068\u304d)\u3067\u306f\u3001\u3059\u3079\u3066\u306e$N$\u3067\u5f0f(1)\u304c\u6210\u308a\u7acb\u3061\u3001$\\nu = 1/2$ \u3068\u306a\u308b\u3002"
     ]
    },
    {
     "cell_type": "heading",
     "level": 2,
     "metadata": {
      "internals": {
       "slide_helper": "subslide_end",
       "slide_type": "subslide"
      },
      "slide_helper": "slide_end",
      "slideshow": {
       "slide_type": "slide"
      }
     },
     "source": [
      "\u5b9f\u7fd2\u8ab2\u984c"
     ]
    },
    {
     "cell_type": "heading",
     "level": 3,
     "metadata": {
      "internals": {
       "slide_type": "subslide"
      },
      "slideshow": {
       "slide_type": "slide"
      }
     },
     "source": [
      "\u554f\u984c a\uff1a"
     ]
    },
    {
     "cell_type": "markdown",
     "metadata": {
      "internals": {
       "frag_number": 5,
       "slide_helper": "subslide_end"
      },
      "slide_helper": "subslide_end",
      "slideshow": {
       "slide_type": "fragment"
      }
     },
     "source": [
      "\u53f3\u306b\u52d5\u304f\u78ba\u7387\u3092$p=0.7$\u3068\u3059\u308b\u3002$< x(N)> $\u3068$< x^{2}(N)> $\u3092$N=4,8,16,32$\u306b\u3064\u3044\u3066\u8a08\u7b97\u305b\u3088\u3002\u3053\u306e\u5834\u5408\u306e$< x(N)> $\u306f\u3069\u306e\u3088\u3046\u306b\u8aac\u660e\u3067\u304d\u308b\u304b\u3002$< \\Delta x^{2}(N)> $\u304c\u3069\u3046$N$\u306b\u4f9d\u5b58\u3059\u308b\u304b\u5b9a\u6027\u7684\u306b\u7b54\u3048\u3088\u3002$< x^{2}(N)> $\u306f\u5358\u7d14\u306a$N$\u4f9d\u5b58\u6027\u3092\u793a\u3059\u304b\u3002"
     ]
    },
    {
     "cell_type": "markdown",
     "metadata": {
      "internals": {
       "frag_helper": "fragment_end",
       "frag_number": 5,
       "slide_type": "subslide"
      },
      "slideshow": {
       "slide_type": "subslide"
      }
     },
     "source": [
      "$< x(N)> $\u3068$< x^{2}(N)> $\u3001$< \\Delta x^{2}(N)> $\u306b\u3064\u3044\u3066\u3001$\\mathrm{nwalkers}=1000$\u3068\u3057\u3066\u305d\u308c\u305e\u308c\u306e$N$\u306b\u3064\u3044\u3066\u8a08\u7b97\u3092\u884c\u3044\u3001\u3053\u306e\u7d50\u679c\u3092\u6a2a\u8ef8\u3092$N$\u3068\u3057\u3066\u30b0\u30e9\u30d5\u306b\u793a\u3059\u3002"
     ]
    },
    {
     "cell_type": "code",
     "collapsed": false,
     "input": [
      "from IPython.html import widgets\n",
      "from IPython.html.widgets import interact, interactive, fixed\n",
      "from IPython.display import display\n",
      "import numpy as np\n",
      "%matplotlib inline\n",
      "import matplotlib.pyplot as plt"
     ],
     "language": "python",
     "metadata": {
      "internals": {
       "frag_helper": "fragment_end",
       "frag_number": 7
      },
      "slideshow": {
       "slide_type": "fragment"
      }
     },
     "outputs": [],
     "prompt_number": 1
    },
    {
     "cell_type": "code",
     "collapsed": false,
     "input": [
      "class RandomWalk1:\n",
      "\n",
      "    def __init__(self, prob=0.7, l=1, nwalkers=1000, x0=0):\n",
      "        \"\"\" Initial function in RandomWalk1.\n",
      "\n",
      "        prob     : probability that a particle moves right\n",
      "        l        : step length\n",
      "        nwalkers : number of trials\n",
      "        x0       : initial position\n",
      "        \"\"\"\n",
      "        self.prob = prob\n",
      "        self.l = l\n",
      "        self.nwalkers = nwalkers\n",
      "        self.x0 = x0\n",
      "\n",
      "    def random_walk_d1(self, N):\n",
      "        \"\"\" Caluculate the displacements of each walkers.\n",
      "\n",
      "        N : A list of walk steps\n",
      "        \"\"\"\n",
      "        x = np.zeros([self.nwalkers, max(N)], 'i')\n",
      "        p = np.random.random([self.nwalkers, max(N) - 1])\n",
      "                             # generate random number in [0,1)\n",
      "        prob = self.prob\n",
      "        l = self.l\n",
      "        x0 = self.x0\n",
      "\n",
      "        for n in range(self.nwalkers):\n",
      "            x[n][0] = x0\n",
      "            for i in range(1, max(N)):\n",
      "                d = +l if p[n][i - 1] < prob else -l\n",
      "                x[n][i] = x[n][i - 1] + d\n",
      "        self.x = x\n",
      "        self.N = N\n",
      "\n",
      "    def calc_ave(self):\n",
      "        \"\"\" Caluculate the average of displacements after max(N) steps.\n",
      "\n",
      "        You can call the results by \"self.N\", \"self.x_ave\", and \"self.x_2_ave\"\n",
      "        \"\"\"\n",
      "        x = self.x\n",
      "        x_ave = np.zeros(len(self.N))\n",
      "        for i, nvalue in enumerate(self.N):\n",
      "            x_ave[i] = sum(\n",
      "                [x[n][nvalue - 1] * 1. for n in xrange(self.nwalkers)]) / self.nwalkers\n",
      "\n",
      "        x_2_ave = np.zeros(len(self.N))\n",
      "        for i, nvalue in enumerate(self.N):\n",
      "            x_2_ave[i] = sum(\n",
      "                [x[n][nvalue - 1] ** 2. for n in xrange(self.nwalkers)]) / self.nwalkers\n",
      "\n",
      "        self.x_ave = x_ave\n",
      "        self.x_2_ave = x_2_ave\n",
      "\n",
      "    def show(self):\n",
      "        \"\"\" Show the graph.\n",
      "        \"\"\"\n",
      "        fig = plt.figure('random walk', figsize=(8, 8))\n",
      "\n",
      "        ax1 = fig.add_subplot(311)\n",
      "        ax1.plot([n for n in self.N], self.x_ave)\n",
      "        ax1.set_ylabel(r'$<x(N)>$', fontsize=16)\n",
      "\n",
      "        ax2 = fig.add_subplot(312)\n",
      "        ax2.plot([n for n in self.N], self.x_2_ave)\n",
      "        ax2.set_ylabel(r'$<x^{2}(N)>$', fontsize=16)\n",
      "\n",
      "        ax3 = fig.add_subplot(313)\n",
      "        ax3.set_ylabel(r'$<\\Delta x^{2}(N)>$', fontsize=16)\n",
      "        ax3.plot([n for n in self.N], self.x_2_ave - self.x_ave ** 2)\n",
      "        ax3.set_xlabel(r'$N$')\n",
      "\n",
      "        plt.show()\n",
      "\n",
      "    def caluculate_error(self, N):\n",
      "        \"\"\" Caluculate the error of <\\Delta x^{2}(N)> and preview.\n",
      "\n",
      "        N : (int)\n",
      "        \"\"\"\n",
      "        resN_0 = 4. * self.prob * (1. - self.prob) * (self.l ** 2) * N\n",
      "        _N = range(1, N + 1)\n",
      "\n",
      "        M = 2\n",
      "        count = 0\n",
      "        while count < 15:\n",
      "            resN = np.zeros(M, 'f')\n",
      "            for m in range(M):\n",
      "                self.random_walk_d1(_N)\n",
      "                t = self.calc_ave()\n",
      "                resN[m] = self.x_2_ave[N - 1] - self.x_ave[N - 1] ** 2\n",
      "            std_resN = np.std(resN)\n",
      "\n",
      "            if M > (std_resN * 100. / resN_0) ** 2:\n",
      "                print str(M) + \" > \" + str((std_resN / (0.01 * resN_0)) ** 2) \\\n",
      "                    + \" : \" + str(count + 1)\n",
      "                count += 1\n",
      "            else:\n",
      "                print str(M) + \" < \" + str((std_resN / (0.01 * resN_0)) ** 2) + \" :\"\n",
      "            M += 1\n",
      "        return None\n",
      "\n",
      "rw1 = RandomWalk1()"
     ],
     "language": "python",
     "metadata": {
      "internals": {
       "frag_helper": "fragment_end",
       "frag_number": 7,
       "slide_helper": "subslide_end"
      },
      "slide_helper": "subslide_end",
      "slideshow": {
       "slide_type": "-"
      }
     },
     "outputs": [],
     "prompt_number": 2
    },
    {
     "cell_type": "code",
     "collapsed": false,
     "input": [
      "def assignment(prob=0.7, l=1, nwalkers=1000, x0=0):\n",
      "    rw1.prob = prob\n",
      "    rw1.l = l\n",
      "    rw1.nwalkers = nwalkers\n",
      "    rw1.x0 = x0\n",
      "\n",
      "w = interactive(assignment, prob=(0., 1., 0.1), l=fixed(1),\n",
      "                nwalkers=(500, 2000, 100), x0=fixed(0.))\n",
      "display(w)\n",
      "\n",
      "def func_a(event):\n",
      "    N = [4, 8, 16, 32]  # caluculate when N = *\n",
      "    rw1.random_walk_d1(N)\n",
      "    rw1.calc_ave()\n",
      "    rw1.show()\n",
      "\n",
      "button_a = widgets.Button(description=\"Run\")\n",
      "display(button_a)\n",
      "button_a.on_click(func_a)"
     ],
     "language": "python",
     "metadata": {
      "internals": {
       "frag_helper": "fragment_end",
       "frag_number": 7,
       "slide_type": "subslide"
      },
      "slideshow": {
       "slide_type": "subslide"
      }
     },
     "outputs": [
      {
       "metadata": {},
       "output_type": "display_data",
       "png": "[encoded data removed]",
       "text": [
        "<matplotlib.figure.Figure at 0x7ff5470f8290>"
       ]
      }
     ],
     "prompt_number": 3
    },
    {
     "cell_type": "markdown",
     "metadata": {
      "internals": {
       "frag_helper": "fragment_end",
       "frag_number": 10,
       "slide_helper": "subslide_end"
      },
      "slide_helper": "slide_end",
      "slideshow": {
       "slide_type": "fragment"
      }
     },
     "source": [
      "\u3053\u306e\u30b0\u30e9\u30d5\u304b\u3089\u8aad\u307f\u53d6\u308c\u308b\u3053\u3068\u3068\u3057\u3066\u3001\u307e\u305a\u3001$< x(N)> $\u306f$N$\u306b\u5bfe\u3057\u3066\u7dda\u5f62\u306b\u5897\u52a0\u3057\u3066\u304a\u308a\u3001\u3053\u308c\u306f\u4ee5\u4e0b\u306e\u3088\u3046\u306a\u7c21\u5358\u306a\u8a08\u7b97\u306e\u7d50\u679c\u3068\u4e00\u81f4\u3057\u3066\u3044\u308b\u3002\u307e\u305f\u3001\u50be\u304d\u306e\u5927\u304d\u3055\u3082$2p-1=0.4$\u3068\u306a\u3063\u3066\u3044\u308b\u3053\u3068\u304c\u5206\u304b\u308b\u3002\n",
      "\n",
      "\\begin{eqnarray}\n",
      "    <x(N)>  &=& \\sum_{i=1}^{N}\\{ p\\times 1 + (1-p)\\times (-1)\\} \\\\\n",
      "    &=& \\sum_{i=1}^{N}(2p-1) = (2p-1)N\n",
      "\\end{eqnarray}\n",
      "\n",
      "\u6b21\u306b\u3001$< \\Delta x^{2}(N)> $\u306b\u3064\u3044\u3066\u306f\u3001$N$\u306e1\u4e57\u306b\u6bd4\u4f8b\u3057\u3066\u3044\u308b\u3053\u3068\u304c\u898b\u3066\u53d6\u308c\u308b(\u3059\u306a\u308f\u3061$\\nu = 1/2$\u3067\u3042\u308b)\u3002\u3053\u308c\u3082\u3001\u4e00\u822c\u306e\u5834\u5408\u306b$< \\Delta x^{2}(N)> =4pql^{2}N$\u3068\u8868\u305b\u308b\u3053\u3068\u3068\u5408\u81f4\u3057\u3066\u3044\u308b\u3002"
     ]
    },
    {
     "cell_type": "heading",
     "level": 3,
     "metadata": {
      "internals": {
       "frag_helper": "fragment_end",
       "frag_number": 10,
       "slide_type": "subslide"
      },
      "slideshow": {
       "slide_type": "slide"
      }
     },
     "source": [
      "\u554f\u984c b\uff1a"
     ]
    },
    {
     "cell_type": "markdown",
     "metadata": {
      "internals": {
       "frag_helper": "fragment_end",
       "frag_number": 12,
       "slide_helper": "subslide_end"
      },
      "slide_helper": "subslide_end",
      "slideshow": {
       "slide_type": "fragment"
      }
     },
     "source": [
      "\u8aa4\u5dee\u89e3\u6790\u306e\u65b9\u6cd5\u3092\u7528\u3044\u3066\u3001$N=8$\u3068$N=32$\u306e\u5834\u5408\u306e$< \\Delta x^{2}(N)> $\u3092\u7cbe\u5ea61\uff05\u3067\u5f97\u308b\u305f\u3081\u306b\u5fc5\u8981\u306a\u8a66\u884c\u306e\u56de\u6570\u3092\u6c42\u3081\u3088"
     ]
    },
    {
     "cell_type": "markdown",
     "metadata": {
      "internals": {
       "frag_helper": "fragment_end",
       "frag_number": 12,
       "slide_helper": "subslide_end",
       "slide_type": "subslide"
      },
      "slide_helper": "subslide_end",
      "slideshow": {
       "slide_type": "subslide"
      }
     },
     "source": [
      "(a)\u3067\u8ff0\u3079\u305f\u3088\u3046\u306b\u3001\u89e3\u6790\u7684\u306b$< \\Delta x^{2}(N)> $\u306e\u5024\u306f\u6c42\u3081\u3089\u308c\u308b\u306e\u3067\u3001\u305d\u306e\u5024\u3092\u771f\u306e\u5024$< \\Delta x^{2}(8)> _{0} = 4 \\times 0.7 \\times 0.3 \\times 8 = 6.72$\u3001$< \\Delta x^{2}(32)> _{0} = 4 \\times 0.7 \\times 0.3 \\times 32 = 26.88$\u3068\u3057\u3066\u3001\u305d\u308c\u3068\u306e\u76f8\u5bfe\u8aa4\u5dee\u304c1\uff05\u3068\u306a\u308b\u3088\u3046\u306a\u8a66\u884c\u56de\u6570M\u3092\u6c42\u3081\u308c\u3070\u3088\u3044\u3002\u3059\u306a\u308f\u3061\u6a19\u6e96\u8aa4\u5dee\u3092$\\sigma_{m}$\u3068\u3057\u3066\n",
      "\n",
      "\\begin{eqnarray}\n",
      "    \\frac{\\sigma_{m}}{< \\Delta x^{2}(N)> _{0}} \\times 100 \\leq 1 \\\\\n",
      "    \\sigma_{m} \\leq 0.01 \\times <\\Delta x^{2}(N)> \n",
      "\\end{eqnarray}\n",
      "\n",
      "\u3068\u306a\u308b\u3002\u3053\u3053\u3067\u3001\u4ed8\u9332\u306b\u793a\u3059\u3088\u3046\u306b\u3001$n$\u56de\u306e\u8a66\u884c\u3092\u884c\u30461\u56de\u306e\u6e2c\u5b9a\u3067\u5f97\u3089\u308c\u305f\u5206\u6563\u3092$\\sigma$\u3068\u3059\u308b\u3068\n",
      "\n",
      "\\begin{equation}\n",
      "    \\sigma_{m} = \\frac{\\sigma}{\\sqrt{n}}\n",
      "\\end{equation}\n",
      "\n",
      "\u304c\u6210\u308a\u7acb\u3064\u306e\u3067\u3001\u3053\u308c\u3092\u4ee3\u5165\u3059\u308b\u3068($n$\u3092$M$\u3068\u8aad\u307f\u66ff\u3048\u3066)\n",
      "\n",
      "\\begin{equation}\n",
      "    M \\geq \\left( \\frac{\\sigma\\times 100}{< \\Delta x^{2}(N)>_{0}}\\right) ^{2}\n",
      "\\end{equation}\n",
      "\n",
      "\u304c\u5f97\u3089\u308c\u308b\u3002$\\sigma$\u304c$M$\u306e\u95a2\u6570\u3068\u3057\u3066\u6c7a\u307e\u3063\u3066\u3044\u308b\u5834\u5408\u306f\u3001$M$\u306e\u5024\u3092\u89e3\u6790\u7684\u306b\u6c42\u3081\u308b\u3053\u3068\u304c\u3067\u304d\u308b\u304c\u3001\u4eca\u306e\u5834\u5408$\\sigma$\u3092$M$\u306e\u95a2\u6570\u3068\u3057\u3066\u6c42\u3081\u308b\u65b9\u6cd5\u306f\u308f\u304b\u3089\u306a\u3044\u3002\u3057\u305f\u304c\u3063\u3066\u3001$M$\u306e\u5024\u30922\u304b\u3089\u9806\u306b\u5927\u304d\u304f\u3057\u3066\u3044\u304d\u3001$M$\u306e\u5024\u3068\u5f0f(2)\u306e\u53f3\u8fba\u306e\u8a08\u7b97\u5024\u3068\u3092\u6bd4\u8f03\u3057\u3066\u3044\u304f\u3053\u3068\u306b\u3059\u308b\u3002\n"
     ]
    },
    {
     "cell_type": "code",
     "collapsed": false,
     "input": [
      "rw1.prob = 0.7\n",
      "rw1.nwalkers = 1000\n",
      "\n",
      "def select_N(N=8):\n",
      "    print \"calculate about N = %d\" % N\n",
      "\n",
      "Nlist = interactive(select_N, N={'8':8, '32':32})\n",
      "display(Nlist)\n",
      "\n",
      "def func_b(event):\n",
      "    N = Nlist.kwargs['N']\n",
      "    rw1.caluculate_error(N)\n",
      "\n",
      "button_b = widgets.Button(description=\"Run\")\n",
      "display(button_b)\n",
      "button_b.on_click(func_b)"
     ],
     "language": "python",
     "metadata": {
      "internals": {
       "frag_helper": "fragment_end",
       "frag_number": 12,
       "slide_type": "subslide"
      },
      "slideshow": {
       "slide_type": "subslide"
      }
     },
     "outputs": [
      {
       "output_type": "stream",
       "stream": "stdout",
       "text": [
        "calculate about N = 8\n",
        "2 < 5.99681289419 :\n",
        "3 < 9.68305194721 :\n",
        "4 < 9.86861996572 :\n",
        "5 > 2.34884255853 : 1\n",
        "6 > 2.80302103303 : 2\n",
        "7 < 26.8453187784 :\n",
        "8 < 29.4935698281 :\n",
        "9 > 5.5086310644 : 3\n",
        "10 < 10.5357587555 :\n",
        "11 < 14.3082498752 :\n",
        "12 < 15.8819553915 :\n",
        "13 > 10.7244590449 : 4\n",
        "14 < 15.1008735398 :\n",
        "15 > 4.88552752071 : 5\n",
        "16 > 15.0988124438 : 6\n",
        "17 > 8.80784323911 : 7\n",
        "18 > 4.6299358104 : 8\n",
        "19 > 14.2533328875 : 9\n",
        "20 < 20.3212759098 :\n",
        "21 > 13.9736732521 : 10\n",
        "22 > 14.2743399718 : 11\n",
        "23 > 9.22841309493 : 12\n",
        "24 > 15.938880976 : 13\n",
        "25 > 16.4368842357 : 14\n",
        "26 > 16.9582543916 : 15\n"
       ]
      }
     ],
     "prompt_number": 5
    },
    {
     "cell_type": "markdown",
     "metadata": {
      "internals": {
       "frag_helper": "fragment_end",
       "frag_number": 15,
       "slide_helper": "subslide_end"
      },
      "slide_helper": "slide_end",
      "slideshow": {
       "slide_type": "fragment"
      }
     },
     "source": [
      "\u3053\u308c\u3089\u306e\u8a66\u884c\u304b\u3089\u3001$< \\Delta x^{2}(N)> $\u3092\u7cbe\u5ea61\uff05\u3067\u5f97\u308b\u305f\u3081\u306b\u5fc5\u8981\u306a\u8a66\u884c\u306e\u56de\u6570$M$\u306f\u3001$\\mathrm{nwalkers}=1000$\u3067\u3042\u308b\u3068\u304d\u306b\u306f\u3001$N=8$\u306e\u3068\u304d$M\\geq 19$\u3001$N=32$\u306e\u3068\u304d$M\\geq 26$\u307b\u3069\u3067\u3042\u308c\u3070\u826f\u3044\u3053\u3068\u304c\u5206\u304b\u308b\u3002\u305d\u308c\u3088\u308a\u5c0f\u3055\u3044$M$\u3067\u306f\u3001\u7cbe\u5ea61\uff05\u3067\u6c42\u3081\u3089\u308c\u308b\u3053\u3068\u3082\u3042\u308b\u304c\u3001\u4e0b\u9650\u5024\u3068\u3057\u3066\u9069\u5207\u3067\u306f\u306a\u3044\u3002"
     ]
    },
    {
     "cell_type": "heading",
     "level": 2,
     "metadata": {
      "internals": {
       "frag_helper": "fragment_end",
       "frag_number": 15,
       "slide_type": "subslide"
      },
      "slideshow": {
       "slide_type": "slide"
      }
     },
     "source": [
      "\u307e\u3068\u3081"
     ]
    },
    {
     "cell_type": "markdown",
     "metadata": {
      "internals": {
       "frag_helper": "fragment_end",
       "frag_number": 17,
       "slide_helper": "subslide_end"
      },
      "slide_helper": "slide_end",
      "slideshow": {
       "slide_type": "fragment"
      }
     },
     "source": [
      "\u3053\u306e\u30b7\u30df\u30e5\u30ec\u30fc\u30b7\u30e7\u30f3\u3067\u306f\u3001\u96e2\u6563\u6642\u9593\u306e1\u6b21\u5143\u30e9\u30f3\u30c0\u30e0\u30a6\u30a9\u30fc\u30af\u306e\u7c21\u5358\u306a\u4f8b\u3092\u5b9f\u65bd\u3059\u308b\u3053\u3068\u304c\u3067\u304d\u305f\u3002\u307e\u305f\u3001\u6e2c\u5b9a\u306e\u7cbe\u5ea6\u3092\u4e0a\u3052\u308b\u305f\u3081\u306b\u8a66\u884c\u56de\u6570\u3092\u5897\u3084\u3059\u3053\u3068\u306a\u3069\u3001\u5b9a\u91cf\u7684\u306a\u8aa4\u5dee\u306b\u3064\u3044\u3066\u5b66\u3076\u6a5f\u4f1a\u3068\u306a\u3063\u305f\u3002"
     ]
    },
    {
     "cell_type": "heading",
     "level": 2,
     "metadata": {
      "internals": {
       "frag_helper": "fragment_end",
       "frag_number": 17,
       "slide_helper": "subslide_end",
       "slide_type": "subslide"
      },
      "slide_helper": "subslide_end",
      "slideshow": {
       "slide_type": "slide"
      }
     },
     "source": [
      "\u4ed8\u9332\uff1a \u5e73\u5747\u5024\u306e\u6a19\u6e96\u504f\u5dee"
     ]
    },
    {
     "cell_type": "markdown",
     "metadata": {
      "internals": {
       "frag_helper": "fragment_end",
       "frag_number": 17,
       "slide_helper": "subslide_end",
       "slide_type": "subslide"
      },
      "slide_helper": "subslide_end",
      "slideshow": {
       "slide_type": "subslide"
      }
     },
     "source": [
      "$\\sigma$\u3092\u6e2c\u5b9a\u306e\u6a19\u6e96\u504f\u5dee\u3068\u3059\u308b\u3068\u3001$n$\u56de\u306e\u8a66\u884c\u304b\u3089\u306a\u308b\u5358\u72ec\u306e\u6e2c\u5b9a\u306e\u8aa4\u5dee\u304c$\\sigma/\\sqrt n$\u306b\u7b49\u3057\u304f\u306a\u308b\u3053\u3068\u3092\u3001\u89e3\u6790\u7684\u306b\u5c0e\u304f\u3002\u6ce8\u76ee\u3059\u308b\u6e2c\u5b9a\u91cf\u3092$x$\u3067\u8868\u3057\u3001\u305d\u308c\u305e\u308c\u304c$n$\u56de\u306e\u8a66\u884c\u304b\u3089\u306a\u308b$m$\u7d44\u306e\u3001\u5408\u8a08\u3057\u3066$mn$\u56de\u306e\u8a66\u884c\u304b\u3089\u306a\u308b\u6e2c\u5b9a\u306e\u7d44\u3092\u8003\u3048\u308b\u3002\u7279\u5b9a\u306e\u6e2c\u5b9a\u3092\u8868\u3059\u305f\u3081\u306b\u6dfb\u5b57$\\alpha$\u3092\u4f7f\u3044\u3001\u3042\u308b\u6e2c\u5b9a\u306e$i$\u56de\u76ee\u306e\u8a66\u884c\u3092\u8868\u3059\u305f\u3081\u306b\u6dfb\u5b57$i$\u3092\u7528\u3044\u308b\u3002\u6e2c\u5b9a$\\alpha$\u306e$i$\u56de\u76ee\u306e\u8a66\u884c\u306e\u7d50\u679c\u3092$x_{\\alpha, i}$\u3067\u8868\u3059\u3068\u3001\u6e2c\u5b9a\u306e\u5024\u306f\n",
      "\n",
      "\\begin{equation}\n",
      "    M_{\\alpha} = \\frac{1}{n}\\sum_{\\alpha = 1}^{n}x_{\\alpha, i}    \n",
      "\\end{equation}\n",
      "\n",
      "\u3067\u4e0e\u3048\u3089\u308c\u308b\u3002\u3055\u3089\u306b$mn$\u56de\u306e\u3059\u3079\u3066\u306e\u8a66\u884c\u306b\u3064\u3044\u3066\u306e\u5e73\u5747$\\bar{M}$\u306f\n",
      "\n",
      "\\begin{equation}            \n",
      "        \\bar{M} = \\frac{1}{m}\\sum_{\\alpha=1}^{m}M_{\\alpha} = \\frac{1}{mn}\\sum_{\\alpha}^{m}\\sum_{i=1}^{n} x_{\\alpha , i}\n",
      "\\end{equation}\n",
      "\n",
      "\u3068\u306a\u308b\u3002"
     ]
    },
    {
     "cell_type": "markdown",
     "metadata": {
      "internals": {
       "frag_helper": "fragment_end",
       "frag_number": 17,
       "slide_helper": "subslide_end",
       "slide_type": "subslide"
      },
      "slide_helper": "subslide_end",
      "slideshow": {
       "slide_type": "subslide"
      }
     },
     "source": [
      "$\\alpha$\u756a\u76ee\u306e\u6e2c\u5b9a\u5024\u3068\u3059\u3079\u3066\u306e\u6e2c\u5b9a\u306e\u5e73\u5747\u5024\u3068\u306e\u5dee\u306f\n",
      "\n",
      "\\begin{equation}           \n",
      "    e_{\\alpha} = M_{\\alpha} - \\bar{M}\n",
      "\\end{equation}\n",
      "\n",
      "\u3067\u3042\u308b\u3002\u5e73\u5747\u5024\u306e\u5206\u6563\u306f\n",
      "\n",
      "\\begin{equation}         \n",
      "    \\sigma_{m}^{2} = \\frac{1}{m}\\sum_{\\alpha=1}^{m} e_{\\alpha}^{2}\n",
      "\\end{equation}\n",
      "\n",
      "\u3068\u66f8\u304f\u3053\u3068\u304c\u3067\u304d\u308b\u3002"
     ]
    },
    {
     "cell_type": "markdown",
     "metadata": {
      "internals": {
       "frag_helper": "fragment_end",
       "frag_number": 17,
       "slide_helper": "subslide_end",
       "slide_type": "subslide"
      },
      "slide_helper": "subslide_end",
      "slideshow": {
       "slide_type": "subslide"
      }
     },
     "source": [
      "$\\sigma_{m}$\u3068\u5404\u6e2c\u5b9a\u306e\u8a66\u884c\u306e\u5206\u6563\u3068\u306e\u95a2\u4fc2\u3092\u8abf\u3079\u308b\u3053\u3068\u306b\u3057\u3088\u3046\u3002\u500b\u3005\u306e\u8a66\u884c\u7d50\u679c$x_{\\alpha, i}$\u3068\u5e73\u5747\u5024\u3068\u306e\u5dee$d_{\\alpha, i}$\u306f\n",
      "\n",
      "\\begin{equation}       \n",
      "    d_{\\alpha, i} = x_{\\alpha, i} - \\bar{M}\n",
      "\\end{equation}\n",
      "\n",
      "\u3067\u4e0e\u3048\u3089\u308c\u308b\u3002\u3057\u305f\u304c\u3063\u3066\u3001$nm$\u56de\u306e\u8a66\u884c\u306b\u3064\u3044\u3066\u306e\u5206\u6563$\\sigma^{2}$\u306f\n",
      "\n",
      "\\begin{equation}        \n",
      "    \\sigma^{2} = \\frac{1}{mn}\\sum_{\\alpha = 1}^{m}\\sum_{i=1}^{n}d_{\\alpha, i}^{2}\n",
      "\\end{equation}\n",
      "\n",
      "\u3067\u3042\u308b\u3002\u307e\u305f\u3001\n",
      "\n",
      "\\begin{eqnarray}\n",
      "    e_{\\alpha} = M_{\\alpha} - \\bar{M} &=& \\frac{1}{n}\\sum_{i=1}^{n}(x_{\\alpha, i} - \\bar{M}) \\\\\n",
      "    &=& \\frac{1}{n}\\sum_{i=1}^{n}d_{\\alpha, i}\n",
      "\\end{eqnarray}\n",
      "\n",
      "\u3067\u3042\u308b\u3002"
     ]
    },
    {
     "cell_type": "markdown",
     "metadata": {
      "internals": {
       "frag_helper": "fragment_end",
       "frag_number": 17,
       "slide_helper": "subslide_end",
       "slide_type": "subslide"
      },
      "slide_helper": "subslide_end",
      "slideshow": {
       "slide_type": "subslide"
      }
     },
     "source": [
      "\u3057\u305f\u304c\u3063\u3066\u3001\u5f0f(4)\u3092(3)\u306b\u4ee3\u5165\u3059\u308b\u3068\u3001\n",
      "\n",
      "\\begin{equation}       \n",
      "    \\sigma_{m}^{2} = \\frac{1}{m}\\sum_{\\alpha - 1}^{m}\\left( \\frac{1}{n}\\sum_{i=1}^{n}d_{\\alpha, i}\\right) \\left( \\frac{1}{n}\\sum_{j = 1}^{n}d_{\\alpha, j} \\right)\n",
      "\\end{equation}\n",
      "\n",
      "\u304c\u5f97\u3089\u308c\u308b\u3002\u5f0f(5)\u306e\u7d44$\\alpha$\u306b\u3064\u3044\u3066\u306e\u8a66\u884c$i$,$j$\u306b\u95a2\u3059\u308b\u548c\u306b\u306f2\u7a2e\u985e\u306e\u9805\u3001\u3064\u307e\u308a\u3001$i=j$\u306e\u9805\u3068$i\\neq j$\u306e\u9805\u304c\u542b\u307e\u308c\u3066\u3044\u308b\u3002$d_{\\alpha, i}$\u3068$d_{\\alpha, j}$\u306f\u4e92\u3044\u306b\u72ec\u7acb\u3067\u3001\u5e73\u5747\u5024\u3068\u3057\u3066\u306f\u6b63\u3068\u8ca0\u306e\u5024\u3092\u540c\u7a0b\u5ea6\u306b\u53d6\u308b\u3053\u3068\u304c\u4e88\u60f3\u3055\u308c\u308b\u306e\u3067\u3001\u6e2c\u5b9a\u56de\u6570\u306e\u5927\u304d\u3044\u6975\u9650\u3067\u306f\u3001\u5f0f(5)\u3067$i=j$\u306e\u9805\u3060\u3051\u304c\u548c\u306b\u5bc4\u4e0e\u3059\u308b\u3068\u8003\u3048\u3066\u3088\u3044\u3060\u308d\u3046\u3002"
     ]
    },
    {
     "cell_type": "markdown",
     "metadata": {
      "internals": {
       "frag_helper": "fragment_end",
       "frag_number": 17,
       "slide_helper": "subslide_end",
       "slide_type": "subslide"
      },
      "slide_helper": "slide_end",
      "slideshow": {
       "slide_type": "subslide"
      }
     },
     "source": [
      "\u3057\u305f\u304c\u3063\u3066\u3001\n",
      "\n",
      "\\begin{equation}        \n",
      "    \\sigma_{m}^{2} = \\frac{1}{mn^{2}}\\sum_{\\alpha=1}^{m}\\sum_{i = 1}^{n}d_{\\alpha, i}\n",
      "\\end{equation}\n",
      "\n",
      "\u3068\u66f8\u304f\u3002\u5f0f(6)\u3068(7)\u3092\u7d44\u307f\u5408\u308f\u305b\u308b\u3068\u3001\u6c42\u3081\u3066\u3044\u305f\u5f0f\n",
      "\n",
      "\\begin{equation}        \n",
      "    \\sigma_{m}^{2} = \\frac{\\sigma^{2}}{n}\n",
      "\\end{equation}\n",
      "\n",
      "\u304c\u5c0e\u304b\u308c\u308b\u3002"
     ]
    },
    {
     "cell_type": "heading",
     "level": 2,
     "metadata": {
      "internals": {
       "frag_helper": "fragment_end",
       "frag_number": 17,
       "slide_helper": "subslide_end",
       "slide_type": "subslide"
      },
      "slide_helper": "subslide_end",
      "slideshow": {
       "slide_type": "slide"
      }
     },
     "source": [
      "\u8ffd\u8a18\uff1a $<x^{2}(N)>$\u306e\u89e3\u6790\u7684\u306a\u5024 (2014/06/09)"
     ]
    },
    {
     "cell_type": "markdown",
     "metadata": {
      "internals": {
       "frag_helper": "fragment_end",
       "frag_number": 17,
       "slide_helper": "subslide_end",
       "slide_type": "subslide"
      },
      "slide_helper": "subslide_end",
      "slideshow": {
       "slide_type": "subslide"
      }
     },
     "source": [
      "\u554f\u984ca\u3067\u306f$N$\u306b\u5bfe\u3059\u308b$<x^{2}(N)>$\u306b\u3064\u3044\u3066\u56f3\u3092\u7528\u3044\u3066\u5b9a\u6027\u7684\u306b\u8ff0\u3079\u305f\u304c\u3001\u3053\u308c\u3092\u89e3\u6790\u7684\u306b\u6c42\u3081\u308b\u3068\u3059\u308b\u3068\u3069\u3046\u306a\u308b\u304b\u3002\u78ba\u7387p\u3067\u53f3\u306b\u79fb\u52d5\u3057\u3001\u78ba\u7387q\u3067\u5de6\u306b\u79fb\u52d5\u3059\u308b\u5834\u5408\u3092\u8003\u3048\u308b\u3068\u3001\u3053\u306e\u3068\u304d$x^{2}(N)$\u306f2\u3064\u306e\u9805\u306e\u548c\u3067\u8868\u3059\u3053\u3068\u304c\u3067\u304d\u3066\u3001$x_{0}=0$\u306a\u3089\u3070\n",
      "\n",
      "\\begin{equation}\n",
      "    x^{2}(N) = \\sum_{i=1}^{N}s_{i}^{2} + \\sum_{i\\neq j=1}^{N}s_{i}s_{j}\n",
      "\\end{equation}\n",
      "\n",
      "\u3067\u3042\u308b\u3002\u3053\u3053\u3067$s_{i} = \\pm l$\u3068\u3059\u308b\u3002\u4e0a\u306e\u5f0f\u3092\u5229\u7528\u3057\u3066$x^{2}(N)$\u306e\u671f\u5f85\u5024\u3092\u8a08\u7b97\u3059\u308b\u3068\u3001\n",
      "\n",
      "\\begin{equation}\n",
      "    <x^{2}(N)> = \\sum_{i=1}^{N}\\left[ p(+l)^{2}+q(-l)^{2} \\right]  + \\sum_{i\\neq j=1}^{N}\\left[ p(+l)+q(-l) \\right]^{2}\n",
      "\\end{equation}\n",
      "\n",
      "\u3067\u3042\u308b\u3002\u53f3\u8fba\u7b2c2\u9805\u306e\u548c\u306f\u3001$(i,j)$\u306e\u7d44\u307f\u5408\u308f\u305b(\u533a\u5225\u3067\u304d\u308b)\u304b\u3089$i=j$\u306e\u5834\u5408\u306e$N$\u901a\u308a\u3092\u9664\u3044\u305f\u6570\u3060\u3051\u306e\u5834\u5408\u304c\u3042\u308b\u306e\u3067\n",
      "\n",
      "\\begin{equation}\n",
      "    <x^{2}(N)> = N(p+q)l^{2} + N(N-1)(p-q)^{2}l^{2}\n",
      "\\end{equation}\n",
      "\n",
      "\u3068\u306a\u308b\u3002"
     ]
    },
    {
     "cell_type": "markdown",
     "metadata": {
      "internals": {
       "frag_helper": "fragment_end",
       "frag_number": 17,
       "slide_helper": "subslide_end",
       "slide_type": "subslide"
      },
      "slide_helper": "slide_end",
      "slideshow": {
       "slide_type": "subslide"
      }
     },
     "source": [
      "\u3057\u305f\u304c\u3063\u3066\n",
      "\n",
      "\\begin{eqnarray*}\n",
      "    <x^{2}(N)> &=& Nl^{2} + N(N-1)(p-q)^{2}l^{2} \\\\\n",
      "    &=& Nl^{2}\\left[ (p+q)^{2}-(p-q)^{2} \\right] + N^{2}(p-q)^{2}l^{2} \\\\\n",
      "    &=& 4pql^{2}N + N^{2}(p-q)^{2}l^{2}\n",
      "\\end{eqnarray*}\n",
      "\n",
      "\u3067\u3042\u308b\u3002\u307e\u305f\u3001\u3053\u308c\u3088\u308a$<\\Delta x^{2}(N)>$\u306f\n",
      "\n",
      "\\begin{eqnarray*}\n",
      "    <\\Delta x^{2}(N)> &=& <x^{2}(N)>-(<x(N)>)^{2} = 4pql^{2}N + N^{2}(p-q)^{2}l^{2} - N^{2}(p-q)^{2}l^{2} \\\\\n",
      "    &=& 4pql^{2}N\n",
      "\\end{eqnarray*}\n",
      "\n",
      "\u3068\u6c42\u3081\u3089\u308c\u308b\u3002\u4ee5\u4e0a\u304b\u3089$<x^{2}(N)>$\u306fN\u306e2\u4e57\u306b\u6bd4\u4f8b\u3057\u3066\u304a\u308a\u3001\u5b9f\u969b\u306b\u30b7\u30df\u30e5\u30ec\u30fc\u30b7\u30e7\u30f3\u3067\u884c\u3063\u305f$\\alpha=0.7$\u3001$N=30$\u306e\u3068\u304d\u306e\u5024\u3092\u8a08\u7b97\u3057\u3066\u307f\u308b\u3068\u3001$<x^{2}(30)>=4\\times 0.7 \\times 0.3 \\times 30 + 30^{2}(0.7-0.3)^{2} = 169.2$\u3067\u3042\u308a\u3001\u56f31\u3067\u898b\u305f\u5024\u3068\u4e00\u81f4\u3057\u3066\u3044\u308b\u3053\u3068\u304c\u78ba\u304b\u3081\u3089\u308c\u308b\u3002"
     ]
    },
    {
     "cell_type": "heading",
     "level": 2,
     "metadata": {
      "internals": {
       "frag_helper": "fragment_end",
       "frag_number": 17,
       "slide_type": "subslide"
      },
      "slideshow": {
       "slide_type": "slide"
      }
     },
     "source": [
      "\u53c2\u8003\u6587\u732e"
     ]
    },
    {
     "cell_type": "markdown",
     "metadata": {
      "internals": {
       "frag_helper": "fragment_end",
       "frag_number": 17,
       "slide_helper": "subslide_end"
      },
      "slide_helper": "slide_end",
      "slideshow": {
       "slide_type": "-"
      }
     },
     "source": [
      "- \u30cf\u30fc\u30d9\u30a4\u30fb\u30b4\u30fc\u30eb\u30c9,\u30b8\u30e3\u30f3\u30fb\u30c8\u30dc\u30c1\u30cb\u30af,\u77f3\u5ddd\u6b63\u52dd\u30fb\u5bae\u5cf6\u4f50\u4ecb\u8a33\u300e\u8a08\u7b97\u7269\u7406\u5b66\u5165\u9580\u300f,\u30d4\u30a2\u30bd\u30f3\u30fb\u30a8\u30c7\u30e5\u30b1\u30fc\u30b7\u30e7\u30f3, 2000.\n",
      "- \u9234\u6728\u6b66\u30fb\u5c71\u7530\u4f5c\u592a\u90ce\u8457\u300e\u6570\u7406\u7d71\u8a08\u5b66\u2015\u57fa\u790e\u304b\u3089\u5b66\u3076\u30c7\u30fc\u30bf\u89e3\u6790\u2015\u300f, \u5185\u7530\u8001\u9db4\u5703, 2008."
     ]
    }
   ],
   "metadata": {}
  }
 ]
}